{
 "cells": [
  {
   "cell_type": "code",
   "execution_count": 4,
   "id": "19b8cdbc",
   "metadata": {},
   "outputs": [],
   "source": [
    "import re"
   ]
  },
  {
   "cell_type": "code",
   "execution_count": 2,
   "id": "c197a475",
   "metadata": {},
   "outputs": [
    {
     "name": "stdout",
     "output_type": "stream",
     "text": [
      "['11', '11']\n"
     ]
    }
   ],
   "source": [
    "text = \"\"\"11111@1\"\"\"\n",
    "num = re.findall(\"11\",text) #Literal matching\n",
    "print(num)"
   ]
  },
  {
   "cell_type": "code",
   "execution_count": 3,
   "id": "35e9fd3e",
   "metadata": {},
   "outputs": [
    {
     "name": "stdout",
     "output_type": "stream",
     "text": [
      "['1', '1', '1', '1', '1', '1']\n"
     ]
    }
   ],
   "source": [
    "text = \"\"\"11111@1\"\"\"\n",
    "num = re.findall(\"[11]\",text) #Sequence of occurences by default occurence is 1\n",
    "print(num)"
   ]
  },
  {
   "cell_type": "code",
   "execution_count": 4,
   "id": "567964b6",
   "metadata": {},
   "outputs": [
    {
     "data": {
      "text/plain": [
       "['12']"
      ]
     },
     "execution_count": 4,
     "metadata": {},
     "output_type": "execute_result"
    }
   ],
   "source": [
    "text = \"\"\"abc12345ABC\"\"\"\n",
    "num = re.findall(\"[123]{2}\",text) #With frequency two\n",
    "num"
   ]
  },
  {
   "cell_type": "code",
   "execution_count": 5,
   "id": "b7f1dcf8",
   "metadata": {},
   "outputs": [
    {
     "name": "stdout",
     "output_type": "stream",
     "text": [
      "['9022234961'] 1\n"
     ]
    }
   ],
   "source": [
    "text = \"\"\"\n",
    "Details:-\n",
    "Mob No :- 9022234961\n",
    "Address :- Akola\n",
    "\"\"\"\n",
    "find_no = re.findall(\"[0-9]{10}\",text) #0-9 till 10 frequency\n",
    "print(find_no,len(find_no))"
   ]
  },
  {
   "cell_type": "code",
   "execution_count": 6,
   "id": "bce63a9f",
   "metadata": {},
   "outputs": [
    {
     "name": "stdout",
     "output_type": "stream",
     "text": [
      "['DMBPB1234N'] 1\n"
     ]
    }
   ],
   "source": [
    "text = \"\"\"\n",
    "Details:-\n",
    "Mob No :- 9022234961\n",
    "Address :- Akola\n",
    "Pan No :- DMBPB1234N\n",
    "\"\"\"\n",
    "find_pan = re.findall(\"[A-Z]{5}[0-9]{4}[A-Z]\",text)\n",
    "print(find_pan,len(find_pan))"
   ]
  },
  {
   "cell_type": "code",
   "execution_count": 17,
   "id": "a54b6d51",
   "metadata": {},
   "outputs": [
    {
     "name": "stdout",
     "output_type": "stream",
     "text": [
      "['01/02/1995', '1-Feb-1995'] 2\n"
     ]
    }
   ],
   "source": [
    "text = \"\"\"\n",
    "Details:-\n",
    "Mob No :- 9022234961\n",
    "Address :- Akola\n",
    "Pan No :- DMBPB1234N\n",
    "DOB :- 01/02/1995\n",
    "       1-Feb-1995 \n",
    "\"\"\"\n",
    "find_DOB = re.findall(\"(?:[0-9]{2}|[0-9])[-/](?:[0-9]{2}|[A-Za-z]{3})[-/][0-9]{4}\",text)\n",
    "print(find_DOB,len(find_DOB))"
   ]
  },
  {
   "cell_type": "code",
   "execution_count": 15,
   "id": "71a449cf",
   "metadata": {},
   "outputs": [
    {
     "name": "stdout",
     "output_type": "stream",
     "text": [
      "['shrikant.bharsakle@tcs.com', 'sbharsakle@HSBC.com', 'teju.dhande@HCL.com'] 3\n"
     ]
    }
   ],
   "source": [
    "text = \"\"\"\n",
    "Details:-\n",
    "Mob No :- 9022234961\n",
    "Address :- Akola\n",
    "Pan No :- DMBPB1234N\n",
    "DOB :- 01/02/1995\n",
    "       1-Feb-1995 \n",
    "Mail ID :- shrikant.bharsakle@tcs.com\n",
    "           sbharsakle@HSBC.com\n",
    "           teju.dhande@HCL.com\n",
    "\"\"\"\n",
    "find_mail = re.findall(\"[a-z]{4,10}(?:|[.][a-z]{6,9})[@][a-zA-z]{3,4}[.][a-z]{3}\",text)\n",
    "print(find_mail,len(find_mail))"
   ]
  },
  {
   "cell_type": "markdown",
   "id": "7cb60800",
   "metadata": {},
   "source": [
    "## Special Sequence :-\n",
    "\n"
   ]
  },
  {
   "cell_type": "markdown",
   "id": "e1691ecb",
   "metadata": {},
   "source": [
    "###  1. \\d = it includes 0-9 numbers"
   ]
  },
  {
   "cell_type": "code",
   "execution_count": 7,
   "id": "89a5da66",
   "metadata": {},
   "outputs": [
    {
     "name": "stdout",
     "output_type": "stream",
     "text": [
      "1\n",
      "['9022234961']\n"
     ]
    }
   ],
   "source": [
    "text = \"\"\"\n",
    "Details:-\n",
    "Mob No :- 9022234961\n",
    "Address :- Akola\n",
    "\"\"\"\n",
    "find_no = re.findall(\"\\d{10}\",text) #\\d includes number from 0-9 like[0-9]\n",
    "print(len(find_no))\n",
    "print(find_no)"
   ]
  },
  {
   "cell_type": "code",
   "execution_count": 9,
   "id": "d66f7047",
   "metadata": {},
   "outputs": [
    {
     "name": "stdout",
     "output_type": "stream",
     "text": [
      "1\n",
      "['9022234961']\n"
     ]
    }
   ],
   "source": [
    "text = \"\"\"\n",
    "Details:-\n",
    "Mob No :- +91-9022234961\n",
    "Address :- Akola\n",
    "\"\"\"\n",
    "find_no = re.findall(\"\\d{10}\",text) #\\d includes number from 0-9 like[0-9]\n",
    "print(len(find_no))\n",
    "print(find_no)"
   ]
  },
  {
   "cell_type": "markdown",
   "id": "8872a309",
   "metadata": {},
   "source": [
    "### 2. \\D = [^0-9 ] = Except 0-9 numbers includes all, includes sapce and symbol as well "
   ]
  },
  {
   "cell_type": "code",
   "execution_count": 10,
   "id": "9d6a6cce",
   "metadata": {},
   "outputs": [
    {
     "name": "stdout",
     "output_type": "stream",
     "text": [
      "['\\n', 'D', 'e', 't', 'a', 'i', 'l', 's', ':', '-', '\\n', 'M', 'o', 'b', ' ', 'N', 'o', ' ', ':', '-', ' ', '+', '-', '\\n', 'A', 'd', 'd', 'r', 'e', 's', 's', ' ', ':', '-', ' ', 'A', 'k', 'o', 'l', 'a', '\\n']\n"
     ]
    }
   ],
   "source": [
    "text = \"\"\"\n",
    "Details:-\n",
    "Mob No :- +91-9022234961\n",
    "Address :- Akola\n",
    "\"\"\"\n",
    "alpha = re.findall(\"\\D\",text) #By default frequency is one thats y all alphabates in words printed including new line \n",
    "print(alpha)"
   ]
  },
  {
   "cell_type": "code",
   "execution_count": 22,
   "id": "c0178370",
   "metadata": {},
   "outputs": [
    {
     "name": "stdout",
     "output_type": "stream",
     "text": [
      "['\\n!@#$%^&*(', '\\nDetails:-', '\\nMob No :-', '\\nAddress :']\n"
     ]
    }
   ],
   "source": [
    "text = \"\"\"\n",
    "!@#$%^&*(\n",
    "Details:-\n",
    "Mob No :- +91-9022234961\n",
    "Address :- Akola\n",
    "\n",
    "\"\"\"\n",
    "alpha = re.findall(\"\\D{10}\",text) #Except numbers[^0-9] it includes new line,alphabets,special chars\n",
    "print(alpha)"
   ]
  },
  {
   "cell_type": "markdown",
   "id": "184a529c",
   "metadata": {},
   "source": [
    "### 3. \\s = Includes space only"
   ]
  },
  {
   "cell_type": "code",
   "execution_count": 31,
   "id": "d396feac",
   "metadata": {},
   "outputs": [
    {
     "name": "stdout",
     "output_type": "stream",
     "text": [
      "5\n",
      "[' ', ' ', ' ', ' ', ' ']\n"
     ]
    }
   ],
   "source": [
    "space = re.findall(\"\\s\",\"Shri kant  Bharsa Kle \")\n",
    "print(len(space))\n",
    "print(space)"
   ]
  },
  {
   "cell_type": "code",
   "execution_count": 32,
   "id": "cecb2ca7",
   "metadata": {},
   "outputs": [
    {
     "name": "stdout",
     "output_type": "stream",
     "text": [
      "11\n",
      "['\\n', '\\n', '\\n', ' ', ' ', ' ', '\\n', ' ', ' ', '\\n', '\\n']\n"
     ]
    }
   ],
   "source": [
    "text = \"\"\"\n",
    "!@#$%^&*(\n",
    "Details:-\n",
    "Mob No :- +91-9022234961\n",
    "Address :- Akola\n",
    "\n",
    "\"\"\"\n",
    "space_1 = re.findall(\"\\s\",text)\n",
    "print(len(space_1))\n",
    "print(space_1)"
   ]
  },
  {
   "cell_type": "code",
   "execution_count": 33,
   "id": "5bdebddc",
   "metadata": {},
   "outputs": [
    {
     "name": "stdout",
     "output_type": "stream",
     "text": [
      "1\n",
      "['1234 4567 1234']\n"
     ]
    }
   ],
   "source": [
    "text = \"\"\"\n",
    "Details:-\n",
    "Mob No :- 9022234961\n",
    "Address :- Akola\n",
    "Pan No :- DMBPB1234N\n",
    "Aadhar No :- 1234 4567 1234\n",
    "\"\"\"\n",
    "adhar = re.findall(\"\\d{4}\\s\\d{4}\\s\\d{4}\",text) #\\d= use for no. 0-9,\\s= use for space\n",
    "print(len(adhar))\n",
    "print(adhar)"
   ]
  },
  {
   "cell_type": "markdown",
   "id": "7de9d97b",
   "metadata": {},
   "source": [
    "### 4. \\S = [^ ] Except space select everything"
   ]
  },
  {
   "cell_type": "code",
   "execution_count": 34,
   "id": "85cf8dce",
   "metadata": {},
   "outputs": [
    {
     "name": "stdout",
     "output_type": "stream",
     "text": [
      "['P', 'y', 't', 'h', 'o', 'n', 'a', 'n', 'd', 'D', 'S']\n"
     ]
    }
   ],
   "source": [
    "space = re.findall(\"\\S\",\"Python and DS\") # Except space[^ ] select everything with frequency one(By default)\n",
    "print(space)"
   ]
  },
  {
   "cell_type": "code",
   "execution_count": 36,
   "id": "0be79611",
   "metadata": {},
   "outputs": [
    {
     "name": "stdout",
     "output_type": "stream",
     "text": [
      "['Py', 'th', 'on', 'an', 'DS']\n"
     ]
    }
   ],
   "source": [
    "space = re.findall(\"\\S{2}\",\"Python and DS\") # Except space[^ ] select everything with frequency two\n",
    "print(space)"
   ]
  },
  {
   "cell_type": "markdown",
   "id": "33c24417",
   "metadata": {},
   "source": [
    "### 5. \\w = [A-Za-z0-9_] includes underscore as well"
   ]
  },
  {
   "cell_type": "code",
   "execution_count": 41,
   "id": "a7327de0",
   "metadata": {},
   "outputs": [
    {
     "name": "stdout",
     "output_type": "stream",
     "text": [
      "['shrikant.bharsakle@gmail.com', 'sbharsakle95@gmail.com', 'dhande@gmail.com']\n"
     ]
    }
   ],
   "source": [
    "text = \"\"\"\n",
    "mail Id :- shrikant.bharsakle@gmail.com\n",
    "           sbharsakle95@gmail.com\n",
    "           teju.dhande@gmail.com\n",
    "\"\"\"\n",
    "maild = re.findall(\"\\w{4,12}(?:|[.]\\w{9})@gmail.com\",text)\n",
    "print(maild)"
   ]
  },
  {
   "cell_type": "code",
   "execution_count": 105,
   "id": "59c34dcf",
   "metadata": {},
   "outputs": [
    {
     "data": {
      "text/plain": [
       "['Sample', 'txt']"
      ]
     },
     "execution_count": 105,
     "metadata": {},
     "output_type": "execute_result"
    }
   ],
   "source": [
    "text = \"\"\"Sample.txt\"\"\"\n",
    "res = re.findall(r\"\\w{2,11}\",text)\n",
    "res\n"
   ]
  },
  {
   "cell_type": "code",
   "execution_count": 103,
   "id": "f1ee5c66",
   "metadata": {},
   "outputs": [
    {
     "data": {
      "text/plain": [
       "['Sample.txt']"
      ]
     },
     "execution_count": 103,
     "metadata": {},
     "output_type": "execute_result"
    }
   ],
   "source": [
    "text = \"\"\"Sample.txt\"\"\"\n",
    "res = re.findall(r\"\\w{2,6}.txt\",text)\n",
    "res"
   ]
  },
  {
   "cell_type": "code",
   "execution_count": 53,
   "id": "7974d959",
   "metadata": {},
   "outputs": [
    {
     "data": {
      "text/plain": [
       "['Sample.txt']"
      ]
     },
     "execution_count": 53,
     "metadata": {},
     "output_type": "execute_result"
    }
   ],
   "source": [
    "text = \"\"\"Sample.txt\"\"\"\n",
    "res = re.findall(r\"\\w{6}[.]\\w{3}\",text)\n",
    "res"
   ]
  },
  {
   "cell_type": "markdown",
   "id": "f01a7324",
   "metadata": {},
   "source": [
    "### 6. \\W = [^A_Za-z0-9 _] Except A-Z,a-z,0-9,underscore(__)\n"
   ]
  },
  {
   "cell_type": "code",
   "execution_count": 42,
   "id": "f491ba32",
   "metadata": {},
   "outputs": [
    {
     "data": {
      "text/plain": [
       "['@', '.', ' ', '.', '@', '.']"
      ]
     },
     "execution_count": 42,
     "metadata": {},
     "output_type": "execute_result"
    }
   ],
   "source": [
    "re.findall(\"\\W\",\"sbharsakle95@gmail.com teju.dhande@gmail.com\") #Except A-Za-z0-9 gives symbols and spaces"
   ]
  },
  {
   "cell_type": "markdown",
   "id": "e34b445b",
   "metadata": {},
   "source": [
    "### 7. \\b = check the char at start and at end of the word"
   ]
  },
  {
   "cell_type": "code",
   "execution_count": 60,
   "id": "279482cd",
   "metadata": {},
   "outputs": [
    {
     "data": {
      "text/plain": [
       "['S', 'S']"
      ]
     },
     "execution_count": 60,
     "metadata": {},
     "output_type": "execute_result"
    }
   ],
   "source": [
    "#Extract the json from given text\n",
    "text = \"\"\"\n",
    "Sample.txt\n",
    "sample1.json\n",
    "Sample2.jason\n",
    "\"\"\"\n",
    "res = re.findall(r\"\\bS\",text)\n",
    "res"
   ]
  },
  {
   "cell_type": "code",
   "execution_count": 68,
   "id": "6ed56869",
   "metadata": {},
   "outputs": [
    {
     "data": {
      "text/plain": [
       "['Sample1.json', 'Sample2.json']"
      ]
     },
     "execution_count": 68,
     "metadata": {},
     "output_type": "execute_result"
    }
   ],
   "source": [
    "#Extract the json from given text\n",
    "text = \"\"\"\n",
    "Sample.txt\n",
    "Sample1.json\n",
    "Sample2.json\n",
    "\"\"\"\n",
    "res = re.findall(r\"\\w{2,7}[.]\\w{4}\",text)\n",
    "res"
   ]
  },
  {
   "cell_type": "code",
   "execution_count": 72,
   "id": "28be2017",
   "metadata": {},
   "outputs": [
    {
     "data": {
      "text/plain": [
       "['9022234961']"
      ]
     },
     "execution_count": 72,
     "metadata": {},
     "output_type": "execute_result"
    }
   ],
   "source": [
    "#Extract the 10 digit number from given text\n",
    "#----------------------IMP-----------------------\n",
    "text = \"\"\"\n",
    "Sample.txt\n",
    "Sample1.json\n",
    "Sample2.json\n",
    "10101010101012020\n",
    "9022234961\n",
    "\"\"\"\n",
    "res = re.findall(r\"\\b\\d{10}\\b\",text) \n",
    "res"
   ]
  },
  {
   "cell_type": "code",
   "execution_count": 83,
   "id": "fa58a456",
   "metadata": {},
   "outputs": [
    {
     "data": {
      "text/plain": [
       "[]"
      ]
     },
     "execution_count": 83,
     "metadata": {},
     "output_type": "execute_result"
    }
   ],
   "source": [
    "#Extract PAN CARD no.\n",
    "text = \"\"\"\n",
    "Sample.txt\n",
    "Sample1.json\n",
    "Sample2.json\n",
    "10101010101012020\n",
    "9022234961\n",
    "DMBPB1214I12345\n",
    "\n",
    "\"\"\"\n",
    "res = re.findall(r\"\\b[A-Z]{5}\\d{4}[A-Z]\\b\",text) #Given \\b boundaries thats y this result- DMBPB1214I12345 will not print\n",
    "res"
   ]
  },
  {
   "cell_type": "code",
   "execution_count": 85,
   "id": "268e4495",
   "metadata": {},
   "outputs": [
    {
     "data": {
      "text/plain": [
       "['DMBPB1234I']"
      ]
     },
     "execution_count": 85,
     "metadata": {},
     "output_type": "execute_result"
    }
   ],
   "source": [
    "#Extract PAN CARD no.\n",
    "text = \"\"\"\n",
    "Sample.txt\n",
    "Sample1.json\n",
    "Sample2.json\n",
    "10101010101012020\n",
    "9022234961\n",
    "DMBPB1214I12345 #Incorrect pan no.\n",
    "DMBPB1234I #Correct Pan no.\n",
    "\n",
    "\"\"\"\n",
    "res = re.findall(r\"\\b[A-Z]{5}\\d{4}[A-Z]\\b\",text) #Correct pan no. printed coz of boundries\n",
    "res"
   ]
  },
  {
   "cell_type": "code",
   "execution_count": 86,
   "id": "4420c5c6",
   "metadata": {},
   "outputs": [
    {
     "data": {
      "text/plain": [
       "['DMBPB1214I', 'DMBPB1234I']"
      ]
     },
     "execution_count": 86,
     "metadata": {},
     "output_type": "execute_result"
    }
   ],
   "source": [
    "#Extract PAN CARD no.\n",
    "text = \"\"\"\n",
    "Sample.txt\n",
    "Sample1.json\n",
    "Sample2.json\n",
    "10101010101012020\n",
    "9022234961\n",
    "DMBPB1214I12345 #Incorrect pan no.\n",
    "DMBPB1234I #Correct Pan no.\n",
    "\n",
    "\"\"\"\n",
    "res = re.findall(r\"[A-Z]{5}\\d{4}[A-Z]\",text) #If we removed boundries(\\b) it will give correct and incorrect pan no.\n",
    "                                                #thats y it is neccessary to give boundries(\\b)\n",
    "res"
   ]
  },
  {
   "cell_type": "markdown",
   "id": "43a6bbed",
   "metadata": {},
   "source": [
    "# <font color=Blue> Special char with special meaning </font>\n"
   ]
  },
  {
   "cell_type": "markdown",
   "id": "8d83f925",
   "metadata": {},
   "source": [
    "### 1. + = one and more occurences"
   ]
  },
  {
   "cell_type": "code",
   "execution_count": 90,
   "id": "4501c5dd",
   "metadata": {},
   "outputs": [
    {
     "name": "stdout",
     "output_type": "stream",
     "text": [
      "['P', 'y', 't', 'h', 'o', 'n', 'a', 'n', 'd', 'D', 'a', 't', 'a', 'S', 'c', 'i', 'e', 'n', 'c', 'e', 'N', 'a', 't', 'u', 'r', 'a', 'l', 'L', 'a', 'u', 'n', 'g', 'u', 'a', 'g', 'e', 'P', 'r', 'o', 'c', 'e', 's', 's', 'i', 'n', 'g']\n"
     ]
    }
   ],
   "source": [
    "text = \"\"\"\n",
    "Python and Data Science NaturalLaunguageProcessing\n",
    "\"\"\"\n",
    "res = re.findall(r\"\\w\",text) #A-Za-z0-9_\n",
    "print(res)"
   ]
  },
  {
   "cell_type": "code",
   "execution_count": 92,
   "id": "1ccc7df3",
   "metadata": {},
   "outputs": [
    {
     "name": "stdout",
     "output_type": "stream",
     "text": [
      "['Python', 'and', 'Data', 'Science', 'NaturalLaunguag', 'eProcessing']\n"
     ]
    }
   ],
   "source": [
    "text = \"\"\"\n",
    "Python and Data Science NaturalLaunguageProcessing\n",
    "\"\"\"\n",
    "res = re.findall(r\"\\w{2,15}\",text) #A-Za-z0-9_ #It will give frequency from 0 till 15 \n",
    "print(res) # Thats y this is output :- 'NaturalLaunguag', 'eProcessing'"
   ]
  },
  {
   "cell_type": "code",
   "execution_count": 93,
   "id": "6013f72e",
   "metadata": {},
   "outputs": [
    {
     "name": "stdout",
     "output_type": "stream",
     "text": [
      "['Python', 'and', 'Data', 'Science', 'NaturalLaunguageProcessing']\n"
     ]
    }
   ],
   "source": [
    "# by using + we can get all the frequencies present between [A-Za-z0-9_]\n",
    "text = \"\"\"\n",
    "Python and Data Science NaturalLaunguageProcessing\n",
    "\"\"\"\n",
    "res = re.findall(r\"\\w+\",text) #A-Za-z0-9_\n",
    "print(res)"
   ]
  },
  {
   "cell_type": "markdown",
   "id": "4fb6c148",
   "metadata": {},
   "source": [
    "### 2. *(Star) = Zero or more occurences"
   ]
  },
  {
   "cell_type": "code",
   "execution_count": 95,
   "id": "b2136a5e",
   "metadata": {},
   "outputs": [
    {
     "data": {
      "text/plain": [
       "['ython']"
      ]
     },
     "execution_count": 95,
     "metadata": {},
     "output_type": "execute_result"
    }
   ],
   "source": [
    "text = \"\"\"\n",
    "ython\n",
    "\"\"\"\n",
    "res = re.findall(r\"P*ython\",text) # *Zero or more\n",
    "res"
   ]
  },
  {
   "cell_type": "code",
   "execution_count": 106,
   "id": "e69995b5",
   "metadata": {},
   "outputs": [
    {
     "data": {
      "text/plain": [
       "['Python']"
      ]
     },
     "execution_count": 106,
     "metadata": {},
     "output_type": "execute_result"
    }
   ],
   "source": [
    "text = \"\"\"\n",
    "Python\n",
    "\"\"\"\n",
    "res = re.findall(r\"P*ython\",text) # *Zero or more\n",
    "res"
   ]
  },
  {
   "cell_type": "code",
   "execution_count": 97,
   "id": "eac65f5a",
   "metadata": {},
   "outputs": [
    {
     "data": {
      "text/plain": [
       "['PPPPPPPPPPPPPPPPPPPPPython']"
      ]
     },
     "execution_count": 97,
     "metadata": {},
     "output_type": "execute_result"
    }
   ],
   "source": [
    "text = \"\"\"\n",
    "PPPPPPPPPPPPPPPPPPPPPython\n",
    "\"\"\"\n",
    "res = re.findall(r\"P*ython\",text) #P zero or more occurences\n",
    "res"
   ]
  },
  {
   "cell_type": "markdown",
   "id": "9759ab65",
   "metadata": {},
   "source": [
    "### 3. (.) dot = Any char except new line"
   ]
  },
  {
   "cell_type": "code",
   "execution_count": 107,
   "id": "15af2c7e",
   "metadata": {},
   "outputs": [
    {
     "data": {
      "text/plain": [
       "['A', 'S', 's', 'd', 'f', '%', '#', '$', '$']"
      ]
     },
     "execution_count": 107,
     "metadata": {},
     "output_type": "execute_result"
    }
   ],
   "source": [
    "text = \"\"\"\n",
    "ASsdf%#$$\n",
    "\"\"\"\n",
    "res = re.findall(r\".\",text) #Any combination of any characters with frequency 1\n",
    "res"
   ]
  },
  {
   "cell_type": "code",
   "execution_count": 108,
   "id": "c70b42b1",
   "metadata": {},
   "outputs": [
    {
     "data": {
      "text/plain": [
       "['AS', 'sd', 'f%', '#$']"
      ]
     },
     "execution_count": 108,
     "metadata": {},
     "output_type": "execute_result"
    }
   ],
   "source": [
    "text = \"\"\"\n",
    "ASsdf%#$$\n",
    "\"\"\"\n",
    "res = re.findall(r\".{2}\",text) #Any combination of any characters with frequency 2\n",
    "res"
   ]
  },
  {
   "cell_type": "code",
   "execution_count": 109,
   "id": "fd0fb014",
   "metadata": {},
   "outputs": [
    {
     "data": {
      "text/plain": [
       "['AS', 'sd', 'f%', '#$']"
      ]
     },
     "execution_count": 109,
     "metadata": {},
     "output_type": "execute_result"
    }
   ],
   "source": [
    "text = \"\"\"\n",
    "ASsdf%\n",
    "#$$\n",
    "\"\"\"\n",
    "res = re.findall(r\".{2}\",text) #Any combination of any characters with frequency 2\n",
    "res"
   ]
  },
  {
   "cell_type": "code",
   "execution_count": 110,
   "id": "86484f28",
   "metadata": {},
   "outputs": [
    {
     "data": {
      "text/plain": [
       "['9', '0', '2', '2', '2', '3', '4', '9', '6', '1']"
      ]
     },
     "execution_count": 110,
     "metadata": {},
     "output_type": "execute_result"
    }
   ],
   "source": [
    "text = \"\"\"\n",
    "9022234961\n",
    "\"\"\"\n",
    "res = re.findall(r\".\",text) \n",
    "res"
   ]
  },
  {
   "cell_type": "code",
   "execution_count": 111,
   "id": "9f506a06",
   "metadata": {},
   "outputs": [
    {
     "data": {
      "text/plain": [
       "['9022234961']"
      ]
     },
     "execution_count": 111,
     "metadata": {},
     "output_type": "execute_result"
    }
   ],
   "source": [
    "text = \"\"\"\n",
    "9022234961\n",
    "\"\"\"\n",
    "res = re.findall(r\".+\",text) #Any combination of any characters with one or more\n",
    "res"
   ]
  },
  {
   "cell_type": "code",
   "execution_count": 112,
   "id": "718b0fc2",
   "metadata": {},
   "outputs": [
    {
     "data": {
      "text/plain": [
       "['1234 1254 1245']"
      ]
     },
     "execution_count": 112,
     "metadata": {},
     "output_type": "execute_result"
    }
   ],
   "source": [
    "text = \"\"\"\n",
    "Adhar :- 1234 1254 1245\n",
    "\"\"\"\n",
    "res = re.findall(r\"\\d+\\s\\d+\\s\\d+\",text) \n",
    "res"
   ]
  },
  {
   "cell_type": "code",
   "execution_count": 113,
   "id": "9783118e",
   "metadata": {},
   "outputs": [
    {
     "data": {
      "text/plain": [
       "['Adhar :- 1234 1254 1245']"
      ]
     },
     "execution_count": 113,
     "metadata": {},
     "output_type": "execute_result"
    }
   ],
   "source": [
    "text = \"\"\"\n",
    "Adhar :- 1234 1254 1245\n",
    "\"\"\"\n",
    "res = re.findall(r\".+\",text) #Combination of anything any char with one or more occurences\n",
    "res"
   ]
  },
  {
   "cell_type": "markdown",
   "id": "f351164a",
   "metadata": {},
   "source": [
    "### 4. ? = It matches exactly zero or one char\n"
   ]
  },
  {
   "cell_type": "code",
   "execution_count": 117,
   "id": "fc8bdcfd",
   "metadata": {},
   "outputs": [
    {
     "data": {
      "text/plain": [
       "['Python']"
      ]
     },
     "execution_count": 117,
     "metadata": {},
     "output_type": "execute_result"
    }
   ],
   "source": [
    "text = \"\"\"\n",
    "Python\n",
    "\"\"\"\n",
    "res = re.findall(r\"P?.+\",text) #P with 0/1 ocuurences with combination of anything with frequency of one and more\n",
    "res"
   ]
  },
  {
   "cell_type": "code",
   "execution_count": 116,
   "id": "3dde472b",
   "metadata": {},
   "outputs": [
    {
     "data": {
      "text/plain": [
       "['ython']"
      ]
     },
     "execution_count": 116,
     "metadata": {},
     "output_type": "execute_result"
    }
   ],
   "source": [
    "text = \"\"\"\n",
    "ython\n",
    "\"\"\"\n",
    "res = re.findall(r\"P?.+\",text) #P with Zero ocuurences with combination of anything with frequency of one and more\n",
    "res"
   ]
  },
  {
   "cell_type": "markdown",
   "id": "503e737f",
   "metadata": {},
   "source": [
    "### 5. ^(Startswith) = any char startswith"
   ]
  },
  {
   "cell_type": "code",
   "execution_count": 118,
   "id": "93e94a2e",
   "metadata": {},
   "outputs": [
    {
     "data": {
      "text/plain": [
       "[]"
      ]
     },
     "execution_count": 118,
     "metadata": {},
     "output_type": "execute_result"
    }
   ],
   "source": [
    "text = \"\"\"\n",
    "Python\n",
    "\"\"\"\n",
    "res = re.findall(r\"^P\",text) #Here string starts with new line not P\n",
    "res"
   ]
  },
  {
   "cell_type": "code",
   "execution_count": 121,
   "id": "717d89a2",
   "metadata": {},
   "outputs": [
    {
     "data": {
      "text/plain": [
       "['Python']"
      ]
     },
     "execution_count": 121,
     "metadata": {},
     "output_type": "execute_result"
    }
   ],
   "source": [
    "text = \"\"\"Python\n",
    "\"\"\"\n",
    "res = re.findall(r\"^P.....\",text) #\n",
    "res"
   ]
  },
  {
   "cell_type": "markdown",
   "id": "03fdcae8",
   "metadata": {},
   "source": [
    "### 6. $ = Ends with"
   ]
  },
  {
   "cell_type": "code",
   "execution_count": 128,
   "id": "66f28e3e",
   "metadata": {},
   "outputs": [
    {
     "data": {
      "text/plain": [
       "[]"
      ]
     },
     "execution_count": 128,
     "metadata": {},
     "output_type": "execute_result"
    }
   ],
   "source": [
    "text = \"\"\"\n",
    "Python.txt\n",
    "\"\"\"\n",
    "res = re.findall(r\"^P...........\",text) # its starts with new line\n",
    "res"
   ]
  },
  {
   "cell_type": "code",
   "execution_count": 133,
   "id": "164f30b9",
   "metadata": {},
   "outputs": [
    {
     "data": {
      "text/plain": [
       "['Python.txt']"
      ]
     },
     "execution_count": 133,
     "metadata": {},
     "output_type": "execute_result"
    }
   ],
   "source": [
    "text = \"\"\"Python.txt\n",
    "\"\"\"\n",
    "res = re.findall(r\"^P.+t$\",text) #Starts with P ends with t (t$)\n",
    "res"
   ]
  },
  {
   "cell_type": "code",
   "execution_count": 134,
   "id": "1276d722",
   "metadata": {},
   "outputs": [
    {
     "data": {
      "text/plain": [
       "[]"
      ]
     },
     "execution_count": 134,
     "metadata": {},
     "output_type": "execute_result"
    }
   ],
   "source": [
    "text = \"\"\"Python.txt\n",
    "\"\"\"\n",
    "res = re.findall(r\"^P.+n$\",text) #Starts with P ends with n (n$) so no output\n",
    "res"
   ]
  },
  {
   "cell_type": "markdown",
   "id": "1b004e6b",
   "metadata": {},
   "source": [
    "### 7. |   = like or operator"
   ]
  },
  {
   "cell_type": "code",
   "execution_count": 140,
   "id": "bea321b8",
   "metadata": {},
   "outputs": [
    {
     "data": {
      "text/plain": [
       "['n and data science', 'a and data science']"
      ]
     },
     "execution_count": 140,
     "metadata": {},
     "output_type": "execute_result"
    }
   ],
   "source": [
    "text = \"\"\"\n",
    "Python and data science\n",
    "Java and data science\n",
    "\"\"\"\n",
    "res = re.findall(r\"[Python|Java] .+\",text) # it is matching the squence of char in [Python|Java]\n",
    "res"
   ]
  },
  {
   "cell_type": "code",
   "execution_count": 142,
   "id": "19f6e538",
   "metadata": {},
   "outputs": [
    {
     "data": {
      "text/plain": [
       "['Python', 'Java']"
      ]
     },
     "execution_count": 142,
     "metadata": {},
     "output_type": "execute_result"
    }
   ],
   "source": [
    "text = \"\"\"\n",
    "Python and data science\n",
    "Java and data science\n",
    "\"\"\"\n",
    "res = re.findall(r\"Python|Java\",text) \n",
    "res"
   ]
  },
  {
   "cell_type": "code",
   "execution_count": 163,
   "id": "51a551fa",
   "metadata": {},
   "outputs": [
    {
     "data": {
      "text/plain": [
       "['Java and data science']"
      ]
     },
     "execution_count": 163,
     "metadata": {},
     "output_type": "execute_result"
    }
   ],
   "source": [
    "text = \"\"\"Python and data science\n",
    "Java and data science\n",
    "\"\"\"\n",
    "res = re.findall(r\"(?:Python|Java).+e$\",text) \n",
    "res"
   ]
  },
  {
   "cell_type": "markdown",
   "id": "f5e1feac",
   "metadata": {},
   "source": [
    "# <font color=Blue> RE Functions </font>"
   ]
  },
  {
   "cell_type": "markdown",
   "id": "06aebc30",
   "metadata": {},
   "source": [
    "### 1. Split() :-\n"
   ]
  },
  {
   "cell_type": "code",
   "execution_count": 1,
   "id": "10a2dded",
   "metadata": {},
   "outputs": [
    {
     "data": {
      "text/plain": [
       "['Python-And-Data_Science']"
      ]
     },
     "execution_count": 1,
     "metadata": {},
     "output_type": "execute_result"
    }
   ],
   "source": [
    "str1 = \"Python-And-Data_Science\" # it will find the exact match (\"_|-\") from str1 thats y no output\n",
    "str1.split(\"_|-\")"
   ]
  },
  {
   "cell_type": "code",
   "execution_count": 11,
   "id": "a7894579",
   "metadata": {},
   "outputs": [],
   "source": [
    "import re"
   ]
  },
  {
   "cell_type": "code",
   "execution_count": 5,
   "id": "9cdc29f5",
   "metadata": {},
   "outputs": [
    {
     "data": {
      "text/plain": [
       "['Python', 'And', 'Data', 'Science']"
      ]
     },
     "execution_count": 5,
     "metadata": {},
     "output_type": "execute_result"
    }
   ],
   "source": [
    "str1 = \"Python-And-Data_Science\" # In re.split we can use 2 delimeter inside one function\n",
    "re.split(\"_|-\",str1)"
   ]
  },
  {
   "cell_type": "code",
   "execution_count": 6,
   "id": "c3aa11ec",
   "metadata": {},
   "outputs": [
    {
     "data": {
      "text/plain": [
       "['Python', 'And', 'Data', 'Science']"
      ]
     },
     "execution_count": 6,
     "metadata": {},
     "output_type": "execute_result"
    }
   ],
   "source": [
    "str1 = \"Python-And-Data_Science\" \n",
    "re.split(\"[_|-]\",str1)"
   ]
  },
  {
   "cell_type": "code",
   "execution_count": 7,
   "id": "ea466363",
   "metadata": {},
   "outputs": [
    {
     "data": {
      "text/plain": [
       "['Python-And-Data', '', '_Science', '']"
      ]
     },
     "execution_count": 7,
     "metadata": {},
     "output_type": "execute_result"
    }
   ],
   "source": [
    "str1 = \"Python-And-Data11_Science1\" \n",
    "re.split(\"[0-9]\",str1)"
   ]
  },
  {
   "cell_type": "markdown",
   "id": "7dfce02e",
   "metadata": {},
   "source": [
    "### 2. re.search :-\n",
    "- It will search for match and returns an object of only first occurence/match\n",
    "- It will return object"
   ]
  },
  {
   "cell_type": "code",
   "execution_count": 12,
   "id": "30e71ee8",
   "metadata": {},
   "outputs": [
    {
     "name": "stdout",
     "output_type": "stream",
     "text": [
      "<re.Match object; span=(1, 11), match='DQNPP8998W'>\n"
     ]
    }
   ],
   "source": [
    "txt = \"\"\"\n",
    "DQNPP8998WE \n",
    "DQNPP9090E\n",
    "\"\"\"\n",
    "res = re.search(\"\\w{5}\\d{4}\\w\",txt) # DQNPP8998W this is incoorect pan no.\n",
    "print(res)"
   ]
  },
  {
   "cell_type": "code",
   "execution_count": 14,
   "id": "674b51de",
   "metadata": {},
   "outputs": [
    {
     "data": {
      "text/plain": [
       "<re.Match object; span=(13, 23), match='DQNPP9090E'>"
      ]
     },
     "execution_count": 14,
     "metadata": {},
     "output_type": "execute_result"
    }
   ],
   "source": [
    "txt = \"\"\"\n",
    "DQNEP89958W\n",
    "DQNPP9090E\n",
    "\"\"\"\n",
    "res = re.search(\"[A-Z]{5}\\d{4}[A-Z]\",txt)\n",
    "res"
   ]
  },
  {
   "cell_type": "code",
   "execution_count": 15,
   "id": "a3fbbc31",
   "metadata": {},
   "outputs": [
    {
     "data": {
      "text/plain": [
       "13"
      ]
     },
     "execution_count": 15,
     "metadata": {},
     "output_type": "execute_result"
    }
   ],
   "source": [
    "res.start() #Index 11= W,12=new line,13=D"
   ]
  },
  {
   "cell_type": "code",
   "execution_count": 17,
   "id": "aa3c2f58",
   "metadata": {},
   "outputs": [
    {
     "data": {
      "text/plain": [
       "23"
      ]
     },
     "execution_count": 17,
     "metadata": {},
     "output_type": "execute_result"
    }
   ],
   "source": [
    "res.end() #End Index of E=23"
   ]
  },
  {
   "cell_type": "code",
   "execution_count": 21,
   "id": "6dea71fb",
   "metadata": {},
   "outputs": [
    {
     "data": {
      "text/plain": [
       "'DQNPP9090E'"
      ]
     },
     "execution_count": 21,
     "metadata": {},
     "output_type": "execute_result"
    }
   ],
   "source": [
    "txt[13:23] #Same index of start and end gives match"
   ]
  },
  {
   "cell_type": "code",
   "execution_count": 20,
   "id": "a5baff14",
   "metadata": {},
   "outputs": [
    {
     "data": {
      "text/plain": [
       "'DQNPP9090E'"
      ]
     },
     "execution_count": 20,
     "metadata": {},
     "output_type": "execute_result"
    }
   ],
   "source": [
    "res.group() "
   ]
  },
  {
   "cell_type": "markdown",
   "id": "f6701410",
   "metadata": {},
   "source": [
    "### 3. re.match() :-\n",
    "- It will search for match at the begining of string and returns object\n",
    "- re.match(pattern,txt)"
   ]
  },
  {
   "cell_type": "code",
   "execution_count": 23,
   "id": "221a352d",
   "metadata": {},
   "outputs": [],
   "source": [
    "text = \"\"\"\n",
    "Adhar :- 1234 1515 2345 \n",
    "\"\"\"\n",
    "res = re.match(\"\\d{4}\\s\\d{4}\\s\\d{4}\",text) #It will not match coz its starts with new string\n",
    "res"
   ]
  },
  {
   "cell_type": "code",
   "execution_count": 24,
   "id": "0b0fc24d",
   "metadata": {},
   "outputs": [
    {
     "data": {
      "text/plain": [
       "<re.Match object; span=(0, 14), match='1234 1515 2345'>"
      ]
     },
     "execution_count": 24,
     "metadata": {},
     "output_type": "execute_result"
    }
   ],
   "source": [
    "text = \"\"\"1234 1515 2345 \n",
    "\"\"\"\n",
    "res = re.match(\"\\d{4}\\s\\d{4}\\s\\d{4}\",text)\n",
    "res"
   ]
  },
  {
   "cell_type": "code",
   "execution_count": 25,
   "id": "9af2ac8a",
   "metadata": {},
   "outputs": [
    {
     "data": {
      "text/plain": [
       "0"
      ]
     },
     "execution_count": 25,
     "metadata": {},
     "output_type": "execute_result"
    }
   ],
   "source": [
    "res.start()"
   ]
  },
  {
   "cell_type": "code",
   "execution_count": 26,
   "id": "ed5d6888",
   "metadata": {},
   "outputs": [
    {
     "data": {
      "text/plain": [
       "14"
      ]
     },
     "execution_count": 26,
     "metadata": {},
     "output_type": "execute_result"
    }
   ],
   "source": [
    "res.end()"
   ]
  },
  {
   "cell_type": "code",
   "execution_count": 27,
   "id": "e07037ca",
   "metadata": {},
   "outputs": [
    {
     "data": {
      "text/plain": [
       "'1234 1515 2345'"
      ]
     },
     "execution_count": 27,
     "metadata": {},
     "output_type": "execute_result"
    }
   ],
   "source": [
    "res.group()"
   ]
  },
  {
   "cell_type": "markdown",
   "id": "b92d86aa",
   "metadata": {},
   "source": [
    "### 4. re.sub(pattern,newString,txt)"
   ]
  },
  {
   "cell_type": "code",
   "execution_count": 28,
   "id": "20d7f515",
   "metadata": {},
   "outputs": [
    {
     "data": {
      "text/plain": [
       "'Java And Data Science'"
      ]
     },
     "execution_count": 28,
     "metadata": {},
     "output_type": "execute_result"
    }
   ],
   "source": [
    "\"Python And Data Science\".replace(\"Python\",\"Java\") #Its like replace function\n"
   ]
  },
  {
   "cell_type": "code",
   "execution_count": 29,
   "id": "f5c29e5b",
   "metadata": {},
   "outputs": [
    {
     "data": {
      "text/plain": [
       "'Python  And  Data  Science'"
      ]
     },
     "execution_count": 29,
     "metadata": {},
     "output_type": "execute_result"
    }
   ],
   "source": [
    "re.sub(\"\\d\",\"\",\"Python 1 And 2 Data 3 Science\") #Substitute no. to nothing from given text"
   ]
  },
  {
   "cell_type": "markdown",
   "id": "c9f7c98b",
   "metadata": {},
   "source": [
    "# Group\n"
   ]
  },
  {
   "cell_type": "code",
   "execution_count": 30,
   "id": "fc5a2b3c",
   "metadata": {},
   "outputs": [
    {
     "data": {
      "text/plain": [
       "'Superwoman'"
      ]
     },
     "execution_count": 30,
     "metadata": {},
     "output_type": "execute_result"
    }
   ],
   "source": [
    "txt = \"Supperman and Superwoman\"\n",
    "re.search(\"Super(wo)?man\",txt).group()"
   ]
  },
  {
   "cell_type": "code",
   "execution_count": 4,
   "id": "0b67433a",
   "metadata": {},
   "outputs": [
    {
     "data": {
      "text/plain": [
       "'Superman'"
      ]
     },
     "execution_count": 4,
     "metadata": {},
     "output_type": "execute_result"
    }
   ],
   "source": [
    "txt = \"Superman and Superwoman\"\n",
    "re.search(\"Super(?:wo|)man\",txt).group()"
   ]
  },
  {
   "cell_type": "markdown",
   "id": "ee74b034",
   "metadata": {},
   "source": [
    "# Compile"
   ]
  },
  {
   "cell_type": "code",
   "execution_count": 47,
   "id": "873ceb16",
   "metadata": {},
   "outputs": [],
   "source": [
    "str1 = \"1234 2345 4556\"\n",
    "str2 = \"1234 2345 455\"\n",
    "str3 = \"123 2345 455\"\n",
    "str4 = \"1234 2345 4056\""
   ]
  },
  {
   "cell_type": "code",
   "execution_count": 48,
   "id": "ca90e428",
   "metadata": {},
   "outputs": [
    {
     "data": {
      "text/plain": [
       "['1234 1515 2345']"
      ]
     },
     "execution_count": 48,
     "metadata": {},
     "output_type": "execute_result"
    }
   ],
   "source": [
    "re.findall(\"\\d{4} \\d{4} \\d{4}\",text)"
   ]
  },
  {
   "cell_type": "code",
   "execution_count": 50,
   "id": "8c3031d1",
   "metadata": {},
   "outputs": [
    {
     "data": {
      "text/plain": [
       "re.compile(r'\\d{4} \\d{4} \\d{4}', re.UNICODE)"
      ]
     },
     "execution_count": 50,
     "metadata": {},
     "output_type": "execute_result"
    }
   ],
   "source": [
    "obj = re.compile(r\"\\d{4} \\d{4} \\d{4}\")\n",
    "obj"
   ]
  },
  {
   "cell_type": "code",
   "execution_count": 51,
   "id": "2fa873c2",
   "metadata": {},
   "outputs": [
    {
     "data": {
      "text/plain": [
       "'1234 2345 4556'"
      ]
     },
     "execution_count": 51,
     "metadata": {},
     "output_type": "execute_result"
    }
   ],
   "source": [
    "obj.search(str1).group() "
   ]
  },
  {
   "cell_type": "code",
   "execution_count": 54,
   "id": "e2da5199",
   "metadata": {},
   "outputs": [
    {
     "ename": "AttributeError",
     "evalue": "'list' object has no attribute 'group'",
     "output_type": "error",
     "traceback": [
      "\u001b[1;31m---------------------------------------------------------------------------\u001b[0m",
      "\u001b[1;31mAttributeError\u001b[0m                            Traceback (most recent call last)",
      "Cell \u001b[1;32mIn[54], line 1\u001b[0m\n\u001b[1;32m----> 1\u001b[0m \u001b[43mobj\u001b[49m\u001b[38;5;241;43m.\u001b[39;49m\u001b[43mfindall\u001b[49m\u001b[43m(\u001b[49m\u001b[43mstr4\u001b[49m\u001b[43m)\u001b[49m\u001b[38;5;241;43m.\u001b[39;49m\u001b[43mgroup\u001b[49m()\n",
      "\u001b[1;31mAttributeError\u001b[0m: 'list' object has no attribute 'group'"
     ]
    }
   ],
   "source": [
    "obj.findall(str4).group()"
   ]
  },
  {
   "cell_type": "code",
   "execution_count": 53,
   "id": "1add10cc",
   "metadata": {},
   "outputs": [
    {
     "data": {
      "text/plain": [
       "['1234 2345 4556']"
      ]
     },
     "execution_count": 53,
     "metadata": {},
     "output_type": "execute_result"
    }
   ],
   "source": [
    "re.findall(obj,str1)"
   ]
  },
  {
   "cell_type": "code",
   "execution_count": 55,
   "id": "78cf2a05",
   "metadata": {},
   "outputs": [
    {
     "data": {
      "text/plain": [
       "'1234 2345 4556'"
      ]
     },
     "execution_count": 55,
     "metadata": {},
     "output_type": "execute_result"
    }
   ],
   "source": [
    "obj.match(str1).group()"
   ]
  },
  {
   "cell_type": "code",
   "execution_count": 2,
   "id": "c0348d17",
   "metadata": {},
   "outputs": [
    {
     "data": {
      "text/plain": [
       "['1234', '1254', '1245']"
      ]
     },
     "execution_count": 2,
     "metadata": {},
     "output_type": "execute_result"
    }
   ],
   "source": [
    "import re\n",
    "text = \"\"\"\n",
    "Adhar :- 1234 1254 1245\n",
    "\"\"\"\n",
    "res = re.findall(r\"\\d+\",text) \n",
    "res"
   ]
  },
  {
   "cell_type": "code",
   "execution_count": null,
   "id": "d6c3a92e",
   "metadata": {},
   "outputs": [],
   "source": []
  }
 ],
 "metadata": {
  "kernelspec": {
   "display_name": "Python 3 (ipykernel)",
   "language": "python",
   "name": "python3"
  },
  "language_info": {
   "codemirror_mode": {
    "name": "ipython",
    "version": 3
   },
   "file_extension": ".py",
   "mimetype": "text/x-python",
   "name": "python",
   "nbconvert_exporter": "python",
   "pygments_lexer": "ipython3",
   "version": "3.10.9"
  }
 },
 "nbformat": 4,
 "nbformat_minor": 5
}
